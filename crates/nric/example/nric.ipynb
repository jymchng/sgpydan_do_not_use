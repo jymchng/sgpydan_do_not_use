{
 "cells": [
  {
   "cell_type": "code",
   "execution_count": 21,
   "metadata": {
    "ExecuteTime": {
     "end_time": "2023-03-03T15:56:13.095301Z",
     "start_time": "2023-03-03T15:56:13.083329Z"
    }
   },
   "outputs": [],
   "source": [
    "from nric_do_not_use import NRIC, SecretNRIC\n",
    "import inspect"
   ]
  },
  {
   "cell_type": "code",
   "execution_count": 22,
   "metadata": {
    "ExecuteTime": {
     "end_time": "2023-03-03T16:02:01.487654Z",
     "start_time": "2023-03-03T16:02:01.462605Z"
    }
   },
   "outputs": [],
   "source": [
    "s = NRIC(\"S6364259B\")"
   ]
  },
  {
   "cell_type": "code",
   "execution_count": 23,
   "metadata": {
    "ExecuteTime": {
     "end_time": "2023-03-03T16:02:02.177515Z",
     "start_time": "2023-03-03T16:02:02.168498Z"
    }
   },
   "outputs": [
    {
     "data": {
      "text/plain": [
       "True"
      ]
     },
     "execution_count": 23,
     "metadata": {},
     "output_type": "execute_result"
    }
   ],
   "source": [
    "isinstance(s, NRIC)"
   ]
  },
  {
   "attachments": {},
   "cell_type": "markdown",
   "metadata": {},
   "source": [
    "# `inspect.getmembers`"
   ]
  },
  {
   "cell_type": "code",
   "execution_count": 24,
   "metadata": {},
   "outputs": [
    {
     "data": {
      "text/plain": [
       "[('__class__', NRIC),\n",
       " ('__delattr__',\n",
       "  <method-wrapper '__delattr__' of builtins.NRIC object at 0x00000151A427B930>),\n",
       " ('__dir__', <function NRIC.__dir__()>),\n",
       " ('__doc__', None),\n",
       " ('__eq__',\n",
       "  <method-wrapper '__eq__' of builtins.NRIC object at 0x00000151A427B930>),\n",
       " ('__format__', <function NRIC.__format__(format_spec, /)>),\n",
       " ('__ge__',\n",
       "  <method-wrapper '__ge__' of builtins.NRIC object at 0x00000151A427B930>),\n",
       " ('__get_validators__', <function NRIC.__get_validators__>),\n",
       " ('__getattribute__',\n",
       "  <method-wrapper '__getattribute__' of builtins.NRIC object at 0x00000151A427B930>),\n",
       " ('__gt__',\n",
       "  <method-wrapper '__gt__' of builtins.NRIC object at 0x00000151A427B930>),\n",
       " ('__hash__',\n",
       "  <method-wrapper '__hash__' of builtins.NRIC object at 0x00000151A427B930>),\n",
       " ('__init__',\n",
       "  <method-wrapper '__init__' of builtins.NRIC object at 0x00000151A427B930>),\n",
       " ('__init_subclass__', <function NRIC.__init_subclass__>),\n",
       " ('__le__',\n",
       "  <method-wrapper '__le__' of builtins.NRIC object at 0x00000151A427B930>),\n",
       " ('__lt__',\n",
       "  <method-wrapper '__lt__' of builtins.NRIC object at 0x00000151A427B930>),\n",
       " ('__module__', 'builtins'),\n",
       " ('__ne__',\n",
       "  <method-wrapper '__ne__' of builtins.NRIC object at 0x00000151A427B930>),\n",
       " ('__new__', <function NRIC.__new__(*args, **kwargs)>),\n",
       " ('__reduce__', <function NRIC.__reduce__()>),\n",
       " ('__reduce_ex__', <function NRIC.__reduce_ex__(protocol, /)>),\n",
       " ('__repr__',\n",
       "  <method-wrapper '__repr__' of builtins.NRIC object at 0x00000151A427B930>),\n",
       " ('__setattr__',\n",
       "  <method-wrapper '__setattr__' of builtins.NRIC object at 0x00000151A427B930>),\n",
       " ('__sizeof__', <function NRIC.__sizeof__()>),\n",
       " ('__str__',\n",
       "  <method-wrapper '__str__' of builtins.NRIC object at 0x00000151A427B930>),\n",
       " ('__subclasshook__', <function NRIC.__subclasshook__>),\n",
       " ('digits', '6364259'),\n",
       " ('prefix', 'S'),\n",
       " ('suffix', 'B'),\n",
       " ('validate', <function NRIC.validate(value)>)]"
      ]
     },
     "execution_count": 24,
     "metadata": {},
     "output_type": "execute_result"
    }
   ],
   "source": [
    "inspect.getmembers(s)"
   ]
  },
  {
   "attachments": {},
   "cell_type": "markdown",
   "metadata": {},
   "source": [
    "# Cannot set arbitrary attributes"
   ]
  },
  {
   "cell_type": "code",
   "execution_count": 25,
   "metadata": {},
   "outputs": [
    {
     "ename": "AttributeError",
     "evalue": "'builtins.NRIC' object has no attribute 'good'",
     "output_type": "error",
     "traceback": [
      "\u001b[1;31m---------------------------------------------------------------------------\u001b[0m",
      "\u001b[1;31mAttributeError\u001b[0m                            Traceback (most recent call last)",
      "Cell \u001b[1;32mIn[25], line 1\u001b[0m\n\u001b[1;32m----> 1\u001b[0m s\u001b[39m.\u001b[39;49mgood \u001b[39m=\u001b[39m \u001b[39mTrue\u001b[39;00m\n",
      "\u001b[1;31mAttributeError\u001b[0m: 'builtins.NRIC' object has no attribute 'good'"
     ]
    }
   ],
   "source": [
    "s.good = True"
   ]
  },
  {
   "attachments": {},
   "cell_type": "markdown",
   "metadata": {},
   "source": [
    "# Has no `__dict__`"
   ]
  },
  {
   "cell_type": "code",
   "execution_count": 26,
   "metadata": {},
   "outputs": [
    {
     "ename": "AttributeError",
     "evalue": "'builtins.NRIC' object has no attribute '__dict__'",
     "output_type": "error",
     "traceback": [
      "\u001b[1;31m---------------------------------------------------------------------------\u001b[0m",
      "\u001b[1;31mAttributeError\u001b[0m                            Traceback (most recent call last)",
      "Cell \u001b[1;32mIn[26], line 1\u001b[0m\n\u001b[1;32m----> 1\u001b[0m s\u001b[39m.\u001b[39;49m\u001b[39m__dict__\u001b[39;49m\n",
      "\u001b[1;31mAttributeError\u001b[0m: 'builtins.NRIC' object has no attribute '__dict__'"
     ]
    }
   ],
   "source": [
    "s.__dict__"
   ]
  },
  {
   "cell_type": "code",
   "execution_count": 27,
   "metadata": {},
   "outputs": [
    {
     "data": {
      "text/plain": [
       "['__new__',\n",
       " '__repr__',\n",
       " '__str__',\n",
       " '__get_validators__',\n",
       " 'validate',\n",
       " 'prefix',\n",
       " 'suffix',\n",
       " 'digits',\n",
       " '__doc__',\n",
       " '__module__',\n",
       " '__hash__',\n",
       " '__getattribute__',\n",
       " '__setattr__',\n",
       " '__delattr__',\n",
       " '__lt__',\n",
       " '__le__',\n",
       " '__eq__',\n",
       " '__ne__',\n",
       " '__gt__',\n",
       " '__ge__',\n",
       " '__init__',\n",
       " '__reduce_ex__',\n",
       " '__reduce__',\n",
       " '__subclasshook__',\n",
       " '__init_subclass__',\n",
       " '__format__',\n",
       " '__sizeof__',\n",
       " '__dir__',\n",
       " '__class__']"
      ]
     },
     "execution_count": 27,
     "metadata": {},
     "output_type": "execute_result"
    }
   ],
   "source": [
    "s.__dir__()"
   ]
  },
  {
   "cell_type": "code",
   "execution_count": 28,
   "metadata": {},
   "outputs": [
    {
     "ename": "ValueError",
     "evalue": "Invalid suffix",
     "output_type": "error",
     "traceback": [
      "\u001b[1;31m---------------------------------------------------------------------------\u001b[0m",
      "\u001b[1;31mValueError\u001b[0m                                Traceback (most recent call last)",
      "Cell \u001b[1;32mIn[28], line 1\u001b[0m\n\u001b[1;32m----> 1\u001b[0m r \u001b[39m=\u001b[39m NRIC(\u001b[39m\"\u001b[39;49m\u001b[39mS1234567B\u001b[39;49m\u001b[39m\"\u001b[39;49m)\n",
      "\u001b[1;31mValueError\u001b[0m: Invalid suffix"
     ]
    }
   ],
   "source": [
    "r = NRIC(\"S1234567B\")"
   ]
  },
  {
   "cell_type": "markdown",
   "metadata": {},
   "source": [
    "# Test Inheritance"
   ]
  },
  {
   "cell_type": "code",
   "execution_count": 29,
   "metadata": {
    "ExecuteTime": {
     "end_time": "2023-03-03T15:58:04.677795Z",
     "start_time": "2023-03-03T15:58:04.605784Z"
    }
   },
   "outputs": [
    {
     "ename": "TypeError",
     "evalue": "type 'builtins.NRIC' is not an acceptable base type",
     "output_type": "error",
     "traceback": [
      "\u001b[1;31m---------------------------------------------------------------------------\u001b[0m",
      "\u001b[1;31mTypeError\u001b[0m                                 Traceback (most recent call last)",
      "Cell \u001b[1;32mIn[29], line 1\u001b[0m\n\u001b[1;32m----> 1\u001b[0m \u001b[39mclass\u001b[39;00m \u001b[39mSubNRIC\u001b[39;00m(NRIC):\n\u001b[0;32m      2\u001b[0m     \u001b[39mpass\u001b[39;00m\n",
      "\u001b[1;31mTypeError\u001b[0m: type 'builtins.NRIC' is not an acceptable base type"
     ]
    }
   ],
   "source": [
    "class SubNRIC(NRIC):\n",
    "    pass"
   ]
  },
  {
   "cell_type": "markdown",
   "metadata": {},
   "source": [
    "# Test Address"
   ]
  },
  {
   "cell_type": "code",
   "execution_count": 30,
   "metadata": {
    "ExecuteTime": {
     "end_time": "2023-03-03T15:58:05.961378Z",
     "start_time": "2023-03-03T15:58:05.942380Z"
    }
   },
   "outputs": [
    {
     "data": {
      "text/plain": [
       "1450158045488"
      ]
     },
     "execution_count": 30,
     "metadata": {},
     "output_type": "execute_result"
    }
   ],
   "source": [
    "id(s)"
   ]
  },
  {
   "cell_type": "markdown",
   "metadata": {},
   "source": [
    "# Test Getters"
   ]
  },
  {
   "cell_type": "code",
   "execution_count": 31,
   "metadata": {
    "ExecuteTime": {
     "end_time": "2023-03-03T16:02:08.073821Z",
     "start_time": "2023-03-03T16:02:08.040832Z"
    }
   },
   "outputs": [
    {
     "data": {
      "text/plain": [
       "('S', 1450073848432)"
      ]
     },
     "execution_count": 31,
     "metadata": {},
     "output_type": "execute_result"
    }
   ],
   "source": [
    "s.prefix, id(s.prefix)"
   ]
  },
  {
   "cell_type": "code",
   "execution_count": 32,
   "metadata": {
    "ExecuteTime": {
     "end_time": "2023-03-03T16:02:14.060645Z",
     "start_time": "2023-03-03T16:02:14.032660Z"
    }
   },
   "outputs": [
    {
     "data": {
      "text/plain": [
       "('B', 1450073872304)"
      ]
     },
     "execution_count": 32,
     "metadata": {},
     "output_type": "execute_result"
    }
   ],
   "source": [
    "s.suffix, id(s.suffix)"
   ]
  },
  {
   "cell_type": "code",
   "execution_count": 33,
   "metadata": {
    "ExecuteTime": {
     "end_time": "2023-03-03T16:02:19.515700Z",
     "start_time": "2023-03-03T16:02:19.490713Z"
    }
   },
   "outputs": [
    {
     "data": {
      "text/plain": [
       "('6364259', 1450178403888)"
      ]
     },
     "execution_count": 33,
     "metadata": {},
     "output_type": "execute_result"
    }
   ],
   "source": [
    "s.digits, id(s.digits)"
   ]
  },
  {
   "cell_type": "markdown",
   "metadata": {},
   "source": [
    "# Test Setters"
   ]
  },
  {
   "cell_type": "code",
   "execution_count": 34,
   "metadata": {
    "ExecuteTime": {
     "end_time": "2023-03-03T15:58:48.020209Z",
     "start_time": "2023-03-03T15:58:47.980192Z"
    }
   },
   "outputs": [
    {
     "ename": "AttributeError",
     "evalue": "attribute 'digits' of 'builtins.NRIC' objects is not writable",
     "output_type": "error",
     "traceback": [
      "\u001b[1;31m---------------------------------------------------------------------------\u001b[0m",
      "\u001b[1;31mAttributeError\u001b[0m                            Traceback (most recent call last)",
      "Cell \u001b[1;32mIn[34], line 1\u001b[0m\n\u001b[1;32m----> 1\u001b[0m s\u001b[39m.\u001b[39;49mdigits \u001b[39m=\u001b[39m \u001b[39m\"\u001b[39m\u001b[39m1234567\u001b[39m\u001b[39m\"\u001b[39m\n",
      "\u001b[1;31mAttributeError\u001b[0m: attribute 'digits' of 'builtins.NRIC' objects is not writable"
     ]
    }
   ],
   "source": [
    "s.digits = \"1234567\""
   ]
  },
  {
   "cell_type": "code",
   "execution_count": 35,
   "metadata": {
    "ExecuteTime": {
     "end_time": "2023-03-03T15:59:07.348579Z",
     "start_time": "2023-03-03T15:59:07.301582Z"
    }
   },
   "outputs": [
    {
     "ename": "AttributeError",
     "evalue": "attribute 'suffix' of 'builtins.NRIC' objects is not writable",
     "output_type": "error",
     "traceback": [
      "\u001b[1;31m---------------------------------------------------------------------------\u001b[0m",
      "\u001b[1;31mAttributeError\u001b[0m                            Traceback (most recent call last)",
      "Cell \u001b[1;32mIn[35], line 1\u001b[0m\n\u001b[1;32m----> 1\u001b[0m s\u001b[39m.\u001b[39;49msuffix \u001b[39m=\u001b[39m \u001b[39m'\u001b[39m\u001b[39mP\u001b[39m\u001b[39m'\u001b[39m\n",
      "\u001b[1;31mAttributeError\u001b[0m: attribute 'suffix' of 'builtins.NRIC' objects is not writable"
     ]
    }
   ],
   "source": [
    "s.suffix = 'P'"
   ]
  },
  {
   "cell_type": "code",
   "execution_count": 36,
   "metadata": {
    "ExecuteTime": {
     "end_time": "2023-03-03T15:59:15.132040Z",
     "start_time": "2023-03-03T15:59:15.087036Z"
    }
   },
   "outputs": [
    {
     "ename": "AttributeError",
     "evalue": "attribute 'prefix' of 'builtins.NRIC' objects is not writable",
     "output_type": "error",
     "traceback": [
      "\u001b[1;31m---------------------------------------------------------------------------\u001b[0m",
      "\u001b[1;31mAttributeError\u001b[0m                            Traceback (most recent call last)",
      "Cell \u001b[1;32mIn[36], line 1\u001b[0m\n\u001b[1;32m----> 1\u001b[0m s\u001b[39m.\u001b[39;49mprefix \u001b[39m=\u001b[39m \u001b[39m'\u001b[39m\u001b[39mQ\u001b[39m\u001b[39m'\u001b[39m\n",
      "\u001b[1;31mAttributeError\u001b[0m: attribute 'prefix' of 'builtins.NRIC' objects is not writable"
     ]
    }
   ],
   "source": [
    "s.prefix = 'Q'"
   ]
  },
  {
   "cell_type": "markdown",
   "metadata": {},
   "source": [
    "# Reassignment"
   ]
  },
  {
   "cell_type": "code",
   "execution_count": 37,
   "metadata": {
    "ExecuteTime": {
     "end_time": "2023-03-03T16:00:27.348231Z",
     "start_time": "2023-03-03T16:00:27.321238Z"
    }
   },
   "outputs": [],
   "source": [
    "s = \"S1234567A\""
   ]
  },
  {
   "cell_type": "code",
   "execution_count": 38,
   "metadata": {
    "ExecuteTime": {
     "end_time": "2023-03-03T16:00:40.758937Z",
     "start_time": "2023-03-03T16:00:40.744902Z"
    }
   },
   "outputs": [
    {
     "data": {
      "text/plain": [
       "False"
      ]
     },
     "execution_count": 38,
     "metadata": {},
     "output_type": "execute_result"
    }
   ],
   "source": [
    "isinstance(s, NRIC)"
   ]
  },
  {
   "attachments": {},
   "cell_type": "markdown",
   "metadata": {},
   "source": [
    "# Test SecretNRIC"
   ]
  },
  {
   "cell_type": "code",
   "execution_count": 39,
   "metadata": {},
   "outputs": [],
   "source": [
    "p = SecretNRIC(\"S6364259B\")"
   ]
  },
  {
   "cell_type": "code",
   "execution_count": 40,
   "metadata": {},
   "outputs": [
    {
     "data": {
      "text/plain": [
       "'<SECRETNRIC>'"
      ]
     },
     "execution_count": 40,
     "metadata": {},
     "output_type": "execute_result"
    }
   ],
   "source": [
    "str(p)"
   ]
  },
  {
   "cell_type": "code",
   "execution_count": 41,
   "metadata": {},
   "outputs": [
    {
     "data": {
      "text/plain": [
       "'<SECRETNRIC>'"
      ]
     },
     "execution_count": 41,
     "metadata": {},
     "output_type": "execute_result"
    }
   ],
   "source": [
    "repr(p)"
   ]
  },
  {
   "cell_type": "code",
   "execution_count": 42,
   "metadata": {},
   "outputs": [
    {
     "data": {
      "text/plain": [
       "[('__class__', SecretNRIC),\n",
       " ('__delattr__',\n",
       "  <method-wrapper '__delattr__' of builtins.SecretNRIC object at 0x00000151A543F4E0>),\n",
       " ('__dir__', <function SecretNRIC.__dir__()>),\n",
       " ('__doc__', None),\n",
       " ('__eq__',\n",
       "  <method-wrapper '__eq__' of builtins.SecretNRIC object at 0x00000151A543F4E0>),\n",
       " ('__format__', <function SecretNRIC.__format__(format_spec, /)>),\n",
       " ('__ge__',\n",
       "  <method-wrapper '__ge__' of builtins.SecretNRIC object at 0x00000151A543F4E0>),\n",
       " ('__get_validators__', <function SecretNRIC.__get_validators__>),\n",
       " ('__getattribute__',\n",
       "  <method-wrapper '__getattribute__' of builtins.SecretNRIC object at 0x00000151A543F4E0>),\n",
       " ('__gt__',\n",
       "  <method-wrapper '__gt__' of builtins.SecretNRIC object at 0x00000151A543F4E0>),\n",
       " ('__hash__',\n",
       "  <method-wrapper '__hash__' of builtins.SecretNRIC object at 0x00000151A543F4E0>),\n",
       " ('__init__',\n",
       "  <method-wrapper '__init__' of builtins.SecretNRIC object at 0x00000151A543F4E0>),\n",
       " ('__init_subclass__', <function SecretNRIC.__init_subclass__>),\n",
       " ('__le__',\n",
       "  <method-wrapper '__le__' of builtins.SecretNRIC object at 0x00000151A543F4E0>),\n",
       " ('__lt__',\n",
       "  <method-wrapper '__lt__' of builtins.SecretNRIC object at 0x00000151A543F4E0>),\n",
       " ('__module__', 'builtins'),\n",
       " ('__ne__',\n",
       "  <method-wrapper '__ne__' of builtins.SecretNRIC object at 0x00000151A543F4E0>),\n",
       " ('__new__', <function SecretNRIC.__new__(*args, **kwargs)>),\n",
       " ('__reduce__', <function SecretNRIC.__reduce__()>),\n",
       " ('__reduce_ex__', <function SecretNRIC.__reduce_ex__(protocol, /)>),\n",
       " ('__repr__',\n",
       "  <method-wrapper '__repr__' of builtins.SecretNRIC object at 0x00000151A543F4E0>),\n",
       " ('__setattr__',\n",
       "  <method-wrapper '__setattr__' of builtins.SecretNRIC object at 0x00000151A543F4E0>),\n",
       " ('__sizeof__', <function SecretNRIC.__sizeof__()>),\n",
       " ('__str__',\n",
       "  <method-wrapper '__str__' of builtins.SecretNRIC object at 0x00000151A543F4E0>),\n",
       " ('__subclasshook__', <function SecretNRIC.__subclasshook__>),\n",
       " ('validate', <function SecretNRIC.validate(value)>)]"
      ]
     },
     "execution_count": 42,
     "metadata": {},
     "output_type": "execute_result"
    }
   ],
   "source": [
    "inspect.getmembers(p)"
   ]
  },
  {
   "cell_type": "code",
   "execution_count": 43,
   "metadata": {},
   "outputs": [
    {
     "ename": "AttributeError",
     "evalue": "'builtins.SecretNRIC' object has no attribute 'prefix'",
     "output_type": "error",
     "traceback": [
      "\u001b[1;31m---------------------------------------------------------------------------\u001b[0m",
      "\u001b[1;31mAttributeError\u001b[0m                            Traceback (most recent call last)",
      "Cell \u001b[1;32mIn[43], line 1\u001b[0m\n\u001b[1;32m----> 1\u001b[0m p\u001b[39m.\u001b[39;49mprefix\n",
      "\u001b[1;31mAttributeError\u001b[0m: 'builtins.SecretNRIC' object has no attribute 'prefix'"
     ]
    }
   ],
   "source": [
    "p.prefix"
   ]
  },
  {
   "attachments": {},
   "cell_type": "markdown",
   "metadata": {},
   "source": [
    "# Pydantic"
   ]
  },
  {
   "cell_type": "code",
   "execution_count": 44,
   "metadata": {},
   "outputs": [],
   "source": [
    "from nric_do_not_use import NRIC, SecretNRIC\n",
    "from pydantic import BaseModel"
   ]
  },
  {
   "cell_type": "code",
   "execution_count": 45,
   "metadata": {},
   "outputs": [],
   "source": [
    "class User(BaseModel):\n",
    "    name: str\n",
    "    nric: NRIC"
   ]
  },
  {
   "cell_type": "code",
   "execution_count": 46,
   "metadata": {},
   "outputs": [],
   "source": [
    "class SecretUser(BaseModel):\n",
    "    name: str\n",
    "    secret_nric: SecretNRIC"
   ]
  },
  {
   "cell_type": "code",
   "execution_count": 47,
   "metadata": {},
   "outputs": [],
   "source": [
    "user1 = User(name='John', nric=\"S6364259B\")"
   ]
  },
  {
   "cell_type": "code",
   "execution_count": 48,
   "metadata": {},
   "outputs": [
    {
     "data": {
      "text/plain": [
       "{'name': 'John', 'nric': <NRIC::S6364259B>}"
      ]
     },
     "execution_count": 48,
     "metadata": {},
     "output_type": "execute_result"
    }
   ],
   "source": [
    "user1.dict()"
   ]
  },
  {
   "cell_type": "code",
   "execution_count": 49,
   "metadata": {},
   "outputs": [],
   "source": [
    "user2 = SecretUser(name='John', secret_nric=\"S6364259B\")"
   ]
  },
  {
   "cell_type": "code",
   "execution_count": 50,
   "metadata": {},
   "outputs": [
    {
     "data": {
      "text/plain": [
       "SecretUser(name='John', secret_nric=<SECRETNRIC>)"
      ]
     },
     "execution_count": 50,
     "metadata": {},
     "output_type": "execute_result"
    }
   ],
   "source": [
    "user2"
   ]
  },
  {
   "cell_type": "code",
   "execution_count": 51,
   "metadata": {},
   "outputs": [
    {
     "data": {
      "text/plain": [
       "1450157970560"
      ]
     },
     "execution_count": 51,
     "metadata": {},
     "output_type": "execute_result"
    }
   ],
   "source": [
    "id(user2)"
   ]
  },
  {
   "cell_type": "code",
   "execution_count": null,
   "metadata": {},
   "outputs": [],
   "source": []
  }
 ],
 "metadata": {
  "kernelspec": {
   "display_name": ".venv",
   "language": "python",
   "name": "python3"
  },
  "language_info": {
   "codemirror_mode": {
    "name": "ipython",
    "version": 3
   },
   "file_extension": ".py",
   "mimetype": "text/x-python",
   "name": "python",
   "nbconvert_exporter": "python",
   "pygments_lexer": "ipython3",
   "version": "3.10.6"
  }
 },
 "nbformat": 4,
 "nbformat_minor": 2
}
